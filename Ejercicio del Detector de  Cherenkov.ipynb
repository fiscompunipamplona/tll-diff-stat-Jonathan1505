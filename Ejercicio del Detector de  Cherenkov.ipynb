{
 "cells": [
  {
   "cell_type": "markdown",
   "metadata": {},
   "source": [
    "#### Nombre: Jonathan Andres Mercado Chavarría , Codigo: 1102854439\n",
    "\n",
    "## Detector Cherenkov"
   ]
  },
  {
   "cell_type": "markdown",
   "metadata": {},
   "source": [
    "# Se trabaja con la 1 columna del archivo Chitaga \n"
   ]
  },
  {
   "cell_type": "code",
   "execution_count": 3,
   "metadata": {},
   "outputs": [
    {
     "name": "stdout",
     "output_type": "stream",
     "text": [
      "tamaño de la lista es :  2998576\n",
      "Los ultimos 4 datos columna 1\n"
     ]
    },
    {
     "data": {
      "image/png": "[encoded data removed]",
      "text/plain": [
       "<Figure size 432x288 with 1 Axes>"
      ]
     },
     "metadata": {
      "needs_background": "light"
     },
     "output_type": "display_data"
    }
   ],
   "source": [
    "#Aqui tomamos los 4 ultimos datos de cada pulso para la columna 1\n",
    "\n",
    "import bz2\n",
    "from numpy import zeros\n",
    "from pylab import *\n",
    "\n",
    "n = 0\n",
    "lista2=[]\n",
    "#with bz2.open( input (\"Please, enter the filename: \"), \"rt\" ) as bz_file:\n",
    "\n",
    "with bz2.open(\"Chitaga_2016_08_12_12h00.dat.bz2\", \"rt\" ) as bz_file:\n",
    "\n",
    "     for line in bz_file:\n",
    "        rline = line.rstrip('\\n').split(' ')\n",
    "        if len(rline)==3:\n",
    "            if rline[0]==\"#\":\n",
    "                ln=0\n",
    "            if rline[0]!=\"#\":\n",
    "                if ln >= 8: \n",
    "                    lista2.append(int(rline[0]))\n",
    "                else:\n",
    "                    ln += 1                    \n",
    "            #print( rline[0],rline[1],rline[2] )\n",
    "            #print(\"lista\",lista)\n",
    "        n += 1\n",
    "        #if n == 100:\n",
    "        #    break\n",
    "#print(\"lista\",lista)\n",
    "\n",
    "#plot(lista)\n",
    "\n",
    "y1=len(lista2)\n",
    "print(\"tamaño de la lista es : \",y1) \n",
    "\n",
    "#Creando Histograma\n",
    "\n",
    "# Histogram parameters\n",
    "hist1 = [] # Array for histogram\n",
    "startBin = 0\n",
    "endBin = 1500\n",
    "nbins = 1500\n",
    "binwidth = int((endBin - startBin) / nbins)\n",
    "#print(binwidth)\n",
    "\n",
    "[hist1.append(0) for i in range(nbins)] # Inizialiting histo\n",
    "\n",
    "# Filling histogram\n",
    "for i in lista2:\n",
    "    hist1[ int((i)/binwidth) ] += 1\n",
    "\n",
    "\n",
    "\n",
    "binesA=[]\n",
    "[binesA.append((i)*binwidth) for i in range(nbins)]\n",
    "\n",
    "\n",
    "print(\"Los ultimos 4 datos columna 1\")\n",
    "plot(binesA, hist1, 'o')\n",
    "xlabel('Bines ')\n",
    "ylabel('Datos')\n",
    "show()\n"
   ]
  },
  {
   "cell_type": "code",
   "execution_count": 4,
   "metadata": {},
   "outputs": [
    {
     "name": "stdout",
     "output_type": "stream",
     "text": [
      "Los siguiente valores calculados son para los 4 ultimos datos columna 1\n",
      "\n",
      "Valor medio 51.3\n",
      " El Valor de la Varianza  37.02\n",
      "Desviación estandar 6.08\n",
      "Kurtosis es 3109.86 y es Leptokurtic\n",
      "Se inclina a la (+), valor skewness 36.52\n"
     ]
    }
   ],
   "source": [
    "#Aqui se calcula para la columna 1\n",
    "print(\"Los siguiente valores calculados son para los 4 ultimos datos columna 1\\n\")\n",
    "\n",
    "nevents=len(lista2)\n",
    "\n",
    "#Con el fin de poder hallar el desviacion promedio, skew y la kurtosis debes hallar lo siguiente\n",
    "\n",
    "#Valor medio\n",
    "x=0\n",
    "for i in range(nevents):\n",
    "    x+=lista2[i]\n",
    "xmedio1=x/nevents\n",
    "\n",
    "print(\"Valor medio\",round(xmedio1,2))\n",
    "\n",
    "Var=0\n",
    "for i in range(nevents):\n",
    "    Var+=(lista2[i]-xmedio1)**2\n",
    "varianza1=Var/(nevents-1)\n",
    "\n",
    "print(\" El Valor de la Varianza \",round(varianza1,2))\n",
    "\n",
    "sigma1=sqrt(varianza1)\n",
    "print(\"Desviación estandar\",round(sigma1,2))\n",
    "    \n",
    "kurt=0\n",
    "for i in range(nevents):\n",
    "    kurt+=((((lista2[i]-xmedio1)/sigma1)**4)-3)\n",
    "kurtosis1=kurt/nevents\n",
    "if kurtosis1<0:\n",
    "    print(\"Kurtosis es\",round(kurtosis1,2),\"y es Platykurtic\")\n",
    "else:\n",
    "    print(\"Kurtosis es\",round(kurtosis1,2),\"y es Leptokurtic\")\n",
    "    \n",
    "skew=0\n",
    "for i in range(nevents):\n",
    "    skew+=(((lista2[i]-xmedio1)/sigma1)**3)\n",
    "skewness1=skew/nevents\n",
    "\n",
    "if skewness1<0:\n",
    "    print(\"Se inclina a la (-), valor skewness\",round(skewness1,2))\n",
    "else:\n",
    "    print(\"Se inclina a la (+), valor skewness\",round(skewness1,2))"
   ]
  },
  {
   "cell_type": "code",
   "execution_count": 16,
   "metadata": {},
   "outputs": [
    {
     "name": "stdout",
     "output_type": "stream",
     "text": [
      "tamaño de la columna que se trabaja es : 1499236\n",
      "Los primeros 2 datos columna 1\n"
     ]
    },
    {
     "data": {
      "image/png": "[encoded data removed]",
      "text/plain": [
       "<Figure size 432x288 with 1 Axes>"
      ]
     },
     "metadata": {
      "needs_background": "light"
     },
     "output_type": "display_data"
    }
   ],
   "source": [
    "#Aqui vamos a tomar las 2 primeros datos de cada pulso para la columna 1\n",
    "\n",
    "import bz2\n",
    "from numpy import zeros\n",
    "from pylab import *\n",
    "\n",
    "n = 0\n",
    "lista=[]\n",
    "#with bz2.open( input (\"Please, enter the filename: \"), \"rt\" ) as bz_file:\n",
    "\n",
    "with bz2.open(\"Chitaga_2016_08_12_12h00.dat.bz2\", \"rt\" ) as bz_file:\n",
    "\n",
    "     for line in bz_file:\n",
    "        rline = line.rstrip('\\n').split(' ')\n",
    "        if len(rline)==3:\n",
    "            if rline[0]==\"#\":\n",
    "                ln=0\n",
    "            if rline[0]!=\"#\":\n",
    "                if ln <= 1: \n",
    "                    lista.append(int(rline[0]))\n",
    "                #else:\n",
    "                ln += 1                    \n",
    "            #print( rline[0],rline[1],rline[2] )\n",
    "            #print(\"lista\",lista)\n",
    "        n += 1\n",
    "        #if n == 100:\n",
    "            #break\n",
    "#print(\"lista\",lista)\n",
    "#plot(lista)\n",
    "\n",
    "y=len(lista)\n",
    "print(\"tamaño de la columna que se trabaja es :\",y) \n",
    "\n",
    "#Creando Histogamaño\"rama\n",
    "\n",
    "# Histogram parameters\n",
    "hist2 = [] # Array for histogram\n",
    "startBin = 0\n",
    "endBin = 1500\n",
    "nbins = 1500\n",
    "binwidth = int((endBin - startBin) / nbins)\n",
    "\n",
    "[hist2.append(0) for i in range(nbins)] # Inizialiting histo\n",
    "\n",
    "# Filling histogram\n",
    "for i in lista:\n",
    "    hist2[ int((i)/binwidth) ] += 1\n",
    "\n",
    "\n",
    "\n",
    "bines2=[]\n",
    "[bines2.append((i)*binwidth) for i in range(nbins)]\n",
    "\n",
    "\n",
    "print(\"Los primeros 2 datos columna 1\")\n",
    "plot(bines2, hist2, 'o')\n",
    "xlabel('Bines ')\n",
    "ylabel('Datos')\n",
    "yscale('log')\n",
    "xlim(0,100)\n",
    "show()"
   ]
  },
  {
   "cell_type": "code",
   "execution_count": 2,
   "metadata": {},
   "outputs": [
    {
     "name": "stdout",
     "output_type": "stream",
     "text": [
      "Los siguiente valores calculados son para los 2 primeros datos columna 1\n",
      "\n",
      "Valor medio 51.64\n",
      " El valor de la Varianza es :  50.29\n",
      "Desviación estandar 7.09\n",
      "Kurtosis es 19.13 y es Leptokurtic\n",
      "Se inclina a la (+), valor skewness) 4.06\n"
     ]
    }
   ],
   "source": [
    "#Aqui se calcula para la columna 1\n",
    "print(\"Los siguiente valores calculados son para los 2 primeros datos columna 1\\n\")\n",
    "\n",
    "nevents=len(lista)\n",
    "\n",
    "#Con el fin de poder hallar el desviacion promedio, skew y la kurtosis debes hallar lo siguiente\n",
    "\n",
    "#Valor medio\n",
    "x=0\n",
    "for i in range(nevents):\n",
    "    x+=lista[i]\n",
    "xmedioA=x/nevents\n",
    "\n",
    "print(\"Valor medio\",round(xmedioA,2))\n",
    "\n",
    "Var=0\n",
    "for i in range(nevents):\n",
    "    Var+=(lista[i]-xmedioA)**2\n",
    "varianzaA=Var/(nevents-1)\n",
    "\n",
    "print(\" El valor de la Varianza es : \",round(varianzaA,2))\n",
    "\n",
    "sigmaA=sqrt(varianzaA)\n",
    "print(\"Desviación estandar\",round(sigmaA,2))\n",
    "    \n",
    "kurt=0\n",
    "for i in range(nevents):\n",
    "    kurt+=((((lista[i]-xmedioA)/sigmaA)**4)-3)\n",
    "kurtosisA=kurt/nevents\n",
    "if kurtosisA<0:\n",
    "    print(\"Kurtosis es\",round(kurtosisA,2),\"y es Platykurtic\")\n",
    "else:\n",
    "    print(\"Kurtosis es\",round(kurtosisA,2),\"y es Leptokurtic\")\n",
    "    \n",
    "skew=0\n",
    "for i in range(nevents):\n",
    "    skew+=(((lista[i]-xmedioA)/sigmaA)**3)\n",
    "skewnessA=skew/nevents\n",
    "\n",
    "if skewnessA<0:\n",
    "    print(\"Se inclina a la (-), valor skewness)\",round(skewnessA,2))\n",
    "else:\n",
    "    print(\"Se inclina a la (+), valor skewness)\",round(skewnessA,2))"
   ]
  },
  {
   "cell_type": "markdown",
   "metadata": {},
   "source": [
    "# Para la Columna 2 de los datos"
   ]
  },
  {
   "cell_type": "code",
   "execution_count": 12,
   "metadata": {},
   "outputs": [
    {
     "name": "stdout",
     "output_type": "stream",
     "text": [
      "EL tamaño de los valores que se esta tomando de la columna es:   2998576\n",
      "Los ultimos 4 datos columna 2\n"
     ]
    },
    {
     "data": {
      "image/png": "[encoded data removed]",
      "text/plain": [
       "<Figure size 432x288 with 1 Axes>"
      ]
     },
     "metadata": {
      "needs_background": "light"
     },
     "output_type": "display_data"
    }
   ],
   "source": [
    "#Aqui tomamos los 4 ultimos datos de cada pulso para la columna 2\n",
    "\n",
    "import bz2\n",
    "from numpy import zeros\n",
    "from pylab import *\n",
    "\n",
    "n = 0\n",
    "lista1=[]\n",
    "#with bz2.open( input (\"Please, enter the filename: \"), \"rt\" ) as bz_file:\n",
    "\n",
    "with bz2.open(\"Chitaga_2016_08_12_12h00.dat.bz2\", \"rt\" ) as bz_file:\n",
    "\n",
    "     for line in bz_file:\n",
    "        rline = line.rstrip('\\n').split(' ')\n",
    "        if len(rline)==3:\n",
    "            if rline[0]==\"#\":\n",
    "                ln=0\n",
    "            if rline[0]!=\"#\":\n",
    "                if ln >= 8: \n",
    "                    lista1.append(int(rline[1]))\n",
    "                else:\n",
    "                    ln += 1                    \n",
    "            #print( rline[0],rline[1],rline[2] )\n",
    "            #print(\"lista\",lista)\n",
    "        n += 1\n",
    "        #if n == 100:\n",
    "        #    break\n",
    "#print(\"lista\",lista)\n",
    "\n",
    "#plot(lista)\n",
    "\n",
    "y=len(lista1)\n",
    "print(\"EL tamaño de los valores que se esta tomando de la columna es:  \",y) \n",
    "\n",
    "#Creando Histograma\n",
    "\n",
    "# Histogram parameters\n",
    "hist3 = [] # Array for histogram\n",
    "startBin = 0\n",
    "endBin = 1500\n",
    "nbins = 1500\n",
    "binwidth = int((endBin - startBin) / nbins)\n",
    "#print(binwidth)\n",
    "\n",
    "[hist3.append(0) for i in range(nbins)] # Inizialiting histo\n",
    "\n",
    "# Filling histogram\n",
    "for i in lista1:\n",
    "    hist3[ int((i)/binwidth) ] += 1\n",
    "\n",
    "\n",
    "\n",
    "bines3=[]\n",
    "[bines3.append((i)*binwidth) for i in range(nbins)]\n",
    "\n",
    "\n",
    "print(\"Los ultimos 4 datos columna 2\")\n",
    "plot(bines3, hist3, 'o')\n",
    "xlabel('Bines ')\n",
    "ylabel('Datos')\n",
    "yscale('log')\n",
    "xlim(0,100)\n",
    "show()"
   ]
  },
  {
   "cell_type": "code",
   "execution_count": 14,
   "metadata": {},
   "outputs": [
    {
     "name": "stdout",
     "output_type": "stream",
     "text": [
      "Los siguiente valores calculados son para los 4 ultimos datos columna 2\n",
      "\n",
      "Valor medio 49.99\n",
      "El valor de la varianza es:  6.17\n",
      "Desviación estandar 2.48\n",
      "Kurtosis es 60594.82 y es Leptokurtic\n",
      "Se inclina a la (+), valor skewness 198.7\n"
     ]
    }
   ],
   "source": [
    "#Aqui se calcula para la columna 2\n",
    "print(\"Los siguiente valores calculados son para los 4 ultimos datos columna 2\\n\")\n",
    "\n",
    "nevents=len(lista1)\n",
    "\n",
    "#Con el fin de poder hallar el desviacion promedio, skew y la kurtosis debes hallar lo siguiente\n",
    "\n",
    "#Valor medio\n",
    "x=0\n",
    "for i in range(nevents):\n",
    "    x+=lista1[i]\n",
    "xmedio2=x/nevents\n",
    "\n",
    "print(\"Valor medio\",round(xmedio2,2))\n",
    "\n",
    "Var=0\n",
    "for i in range(nevents):\n",
    "    Var+=(lista1[i]-xmedio2)**2\n",
    "varianza2=Var/(nevents-1)\n",
    "\n",
    "print(\"El valor de la varianza es: \",round(varianza2,2))\n",
    "\n",
    "sigma2=sqrt(varianza2)\n",
    "print(\"Desviación estandar\",round(sigma2,2))\n",
    "    \n",
    "kurt=0\n",
    "for i in range(nevents):\n",
    "    kurt+=((((lista1[i]-xmedio2)/sigma2)**4)-3)\n",
    "kurtosis2=kurt/nevents\n",
    "if kurtosis2<0:\n",
    "    print(\"Kurtosis es\",round(kurtosis2,2),\"y es Platykurtic\")\n",
    "else:\n",
    "    print(\"Kurtosis es\",round(kurtosis2,2),\"y es Leptokurtic\")\n",
    "    \n",
    "skew=0\n",
    "for i in range(nevents):\n",
    "    skew+=(((lista1[i]-xmedio2)/sigma2)**3)\n",
    "skewness2=skew/nevents\n",
    "\n",
    "if skewness2<0:\n",
    "    print(\"Se inclina a la (-), valor skewness\",round(skewness2,2))\n",
    "else:\n",
    "    print(\"Se inclina a la (+), valor skewness\",round(skewness2,2))"
   ]
  },
  {
   "cell_type": "code",
   "execution_count": 40,
   "metadata": {},
   "outputs": [
    {
     "name": "stdout",
     "output_type": "stream",
     "text": [
      "tamaño 1499236\n",
      "Los primeros 2 datos columna 2\n"
     ]
    },
    {
     "data": {
      "image/png": "[encoded data removed]",
      "text/plain": [
       "<Figure size 432x288 with 1 Axes>"
      ]
     },
     "metadata": {
      "needs_background": "light"
     },
     "output_type": "display_data"
    }
   ],
   "source": [
    "#Aqui vamos a tomar las 2 primeros datos de cada pulso para la columna 2\n",
    "\n",
    "import bz2\n",
    "from numpy import zeros\n",
    "from pylab import *\n",
    "\n",
    "n = 0\n",
    "lista=[]\n",
    "#with bz2.open( input (\"Please, enter the filename: \"), \"rt\" ) as bz_file:\n",
    "\n",
    "with bz2.open(\"Chitaga_2016_08_12_12h00.dat.bz2\", \"rt\" ) as bz_file:\n",
    "\n",
    "     for line in bz_file:\n",
    "        rline = line.rstrip('\\n').split(' ')\n",
    "        if len(rline)==3:\n",
    "            if rline[0]==\"#\":\n",
    "                ln=0\n",
    "            if rline[0]!=\"#\":\n",
    "                if ln <= 1: \n",
    "                    lista.append(int(rline[1]))\n",
    "                #else:\n",
    "                ln += 1                    \n",
    "            #print( rline[0],rline[1],rline[2] )\n",
    "            #print(\"lista\",lista)\n",
    "        n += 1\n",
    "        #if n == 100:\n",
    "            #break\n",
    "#print(\"lista\",lista)\n",
    "#plot(lista)\n",
    "\n",
    "y=len(lista)\n",
    "print(\" El tamaño de la columna que se trabaja es: \",y) \n",
    "\n",
    "#Creando Histograma\n",
    "\n",
    "# Histogram parameters\n",
    "hist4 = [] # Array for histogram\n",
    "startBin = 0 \n",
    "endBin = 1500\n",
    "nbins = 1500\n",
    "binwidth = int((endBin - startBin) / nbins)\n",
    "\n",
    "[hist4.append(0) for i in range(nbins)] # Inizialiting histo\n",
    "\n",
    "# Filling histogram\n",
    "for i in lista:\n",
    "    hist4[ int((i)/binwidth) ] += 1\n",
    "\n",
    "\n",
    "\n",
    "bines4=[]\n",
    "[bines4.append((i)*binwidth) for i in range(nbins)]\n",
    "\n",
    "\n",
    "print(\"Los primeros 2 datos columna 2\")\n",
    "plot(bines4, hist4, 'o')\n",
    "xlabel('Bines ')\n",
    "ylabel('Datos')\n",
    "yscale('log')\n",
    "xlim(0,100)\n",
    "show()"
   ]
  },
  {
   "cell_type": "code",
   "execution_count": 39,
   "metadata": {},
   "outputs": [
    {
     "name": "stdout",
     "output_type": "stream",
     "text": [
      "Los siguiente valores calculados son para los 2 primeros datos columna 2\n",
      "\n",
      "Valor medio 51.64\n",
      "Valor Medio 50.29\n",
      "Desviación estandar 7.09\n",
      "Kurtosis es 19.13 y es Leptokurtic\n",
      "Se inclina a la (+), valor skewness) 4.06\n"
     ]
    }
   ],
   "source": [
    "#Aqui se calcula para la columna 2\n",
    "print(\"Los siguiente valores calculados son para los 2 primeros datos columna 2\\n\")\n",
    "\n",
    "nevents=len(lista)\n",
    "\n",
    "#Con el fin de poder hallar el desviacion promedio, skew y la kurtosis debes hallar lo siguiente\n",
    "\n",
    "#Valor medio\n",
    "x=0\n",
    "for i in range(nevents):\n",
    "    x+=lista[i]\n",
    "xmedioB=x/nevents\n",
    "\n",
    "print(\"Valor medio\",round(xmedioB,2))\n",
    "\n",
    "Var=0\n",
    "for i in range(nevents):\n",
    "    Var+=(lista[i]-xmedioB)**2\n",
    "varianzaB=Var/(nevents-1)\n",
    "\n",
    "print(\"El Valor de la Varianza es: \",round(varianzaB,2))\n",
    "\n",
    "sigmaB=sqrt(varianzaB)\n",
    "print(\"Desviación estandar\",round(sigmaB,2))\n",
    "    \n",
    "kurt=0\n",
    "for i in range(nevents):\n",
    "    kurt+=((((lista[i]-xmedioB)/sigmaB)**4)-3)\n",
    "kurtosisB=kurt/nevents\n",
    "if kurtosisB<0:\n",
    "    print(\"Kurtosis es\",round(kurtosisB,2),\"y es Platykurtic\")\n",
    "else:\n",
    "    print(\"Kurtosis es\",round(kurtosisB,2),\"y es Leptokurtic\")\n",
    "    \n",
    "skew=0\n",
    "for i in range(nevents):\n",
    "    skew+=(((lista[i]-xmedioB)/sigmaB)**3)\n",
    "skewnessB=skew/nevents\n",
    "\n",
    "if skewness<0:\n",
    "    print(\"Se inclina a la (-), valor skewness)\",round(skewnessB,2))\n",
    "else:\n",
    "    print(\"Se inclina a la (+), valor skewness)\",round(skewnessB,2))"
   ]
  },
  {
   "cell_type": "markdown",
   "metadata": {},
   "source": [
    "# Para la Columna 3 de los datos"
   ]
  },
  {
   "cell_type": "code",
   "execution_count": 41,
   "metadata": {},
   "outputs": [
    {
     "name": "stdout",
     "output_type": "stream",
     "text": [
      "tamaño 2998576\n",
      "Los ultimos 4 datos columna 3\n"
     ]
    },
    {
     "data": {
      "image/png": "[encoded data removed]",
      "text/plain": [
       "<Figure size 432x288 with 1 Axes>"
      ]
     },
     "metadata": {
      "needs_background": "light"
     },
     "output_type": "display_data"
    }
   ],
   "source": [
    "#Aqui tomamos los 4 ultimos datos de cada pulso para la columna 1\n",
    "\n",
    "import bz2\n",
    "from numpy import zeros\n",
    "from pylab import *\n",
    "\n",
    "n = 0\n",
    "lista=[]\n",
    "#with bz2.open( input (\"Please, enter the filename: \"), \"rt\" ) as bz_file:\n",
    "\n",
    "with bz2.open(\"Chitaga_2016_08_12_12h00.dat.bz2\", \"rt\" ) as bz_file:\n",
    "\n",
    "     for line in bz_file:\n",
    "        rline = line.rstrip('\\n').split(' ')\n",
    "        if len(rline)==3:\n",
    "            if rline[0]==\"#\":\n",
    "                ln=0\n",
    "            if rline[0]!=\"#\":\n",
    "                if ln >= 8: \n",
    "                    lista.append(int(rline[2]))\n",
    "                else:\n",
    "                    ln += 1                    \n",
    "            #print( rline[0],rline[1],rline[2] )\n",
    "            #print(\"lista\",lista)\n",
    "        n += 1\n",
    "        #if n == 100:\n",
    "        #    break\n",
    "#print(\"lista\",lista)\n",
    "\n",
    "#plot(lista)\n",
    "\n",
    "y=len(lista)\n",
    "print(\" El tamaño de la columna que se trabaja es:\",y) \n",
    "\n",
    "#Creando Histograma\n",
    "\n",
    "# Histogram parameters\n",
    "hist5 = [] # Array for histogram\n",
    "startBin = 0\n",
    "endBin = 1500\n",
    "nbins = 1500\n",
    "binwidth = int((endBin - startBin) / nbins)\n",
    "#print(binwidth)\n",
    "\n",
    "[hist5.append(0) for i in range(nbins)] # Inizialiting histo\n",
    "\n",
    "# Filling histogram\n",
    "for i in lista:\n",
    "    hist5[ int((i)/binwidth) ] += 1\n",
    "\n",
    "bines5=[]\n",
    "[bines5.append((i)*binwidth) for i in range(nbins)]\n",
    "\n",
    "print(\"Los ultimos 4 datos columna 3\")\n",
    "plot(bines5, hist5, 'o')\n",
    "xlabel('Bines ')\n",
    "ylabel('Datos')\n",
    "yscale('log')\n",
    "xlim(0,100)\n",
    "show()"
   ]
  },
  {
   "cell_type": "code",
   "execution_count": 42,
   "metadata": {},
   "outputs": [
    {
     "name": "stdout",
     "output_type": "stream",
     "text": [
      "Los siguiente valores calculados son para los 4 ultimos datos columna 3\n",
      "\n",
      "Valor medio 50.0\n",
      "Valor Medio 0.79\n",
      "Desviación estandar 0.89\n",
      "Kurtosis es 20.32 y es Leptokurtic\n",
      "Se inclina a la (+), valor skewness 1.31\n"
     ]
    }
   ],
   "source": [
    "#Aqui se calcula para la columna 3\n",
    "print(\"Los siguiente valores calculados son para los 4 ultimos datos columna 3\\n\")\n",
    "\n",
    "nevents=len(lista)\n",
    "\n",
    "#Con el fin de poder hallar el desviacion promedio, skew y la kurtosis debes hallar lo siguiente\n",
    "\n",
    "#Valor medio\n",
    "x=0\n",
    "for i in range(nevents):\n",
    "    x+=lista[i]\n",
    "xmedio3=x/nevents\n",
    "\n",
    "print(\"Valor medio\",round(xmedio3,2))\n",
    "\n",
    "Var=0\n",
    "for i in range(nevents):\n",
    "    Var+=(lista[i]-xmedio3)**2\n",
    "varianza3=Var/(nevents-1)\n",
    "\n",
    "print(\"EL Valor de la Varianza es: \",round(varianza3,2))\n",
    "\n",
    "sigma3=sqrt(varianza3)\n",
    "print(\"Desviación estandar\",round(sigma,2))\n",
    "    \n",
    "kurt=0\n",
    "for i in range(nevents):\n",
    "    kurt+=((((lista[i]-xmedio)/sigma)**4)-3)\n",
    "kurtosis=kurt/nevents\n",
    "if kurtosis<0:\n",
    "    print(\"Kurtosis es\",round(kurtosis,2),\"y es Platykurtic\")\n",
    "else:\n",
    "    print(\"Kurtosis es\",round(kurtosis,2),\"y es Leptokurtic\")\n",
    "    \n",
    "skew=0\n",
    "for i in range(nevents):\n",
    "    skew+=(((lista[i]-xmedio)/sigma)**3)\n",
    "skewness=skew/nevents\n",
    "\n",
    "if skewness<0:\n",
    "    print(\"Se inclina a la (-), valor skewness\",round(skewness,2))\n",
    "else:\n",
    "    print(\"Se inclina a la (+), valor skewness\",round(skewness,2))"
   ]
  },
  {
   "cell_type": "code",
   "execution_count": 6,
   "metadata": {},
   "outputs": [
    {
     "name": "stdout",
     "output_type": "stream",
     "text": [
      " El tamaño de la columna que se trabaja es: 8995413\n",
      "Los primeros 2 datos columna 3\n"
     ]
    },
    {
     "data": {
      "image/png": "[encoded data removed]",
      "text/plain": [
       "<Figure size 432x288 with 1 Axes>"
      ]
     },
     "metadata": {
      "needs_background": "light"
     },
     "output_type": "display_data"
    }
   ],
   "source": [
    "#Aqui vamos a tomar   todos los datos de cada pulso para la columna 3\n",
    "\n",
    "import bz2\n",
    "from numpy import zeros\n",
    "from pylab import *\n",
    "\n",
    "n = 0\n",
    "lista7=[]\n",
    "#with bz2.open( input (\"Please, enter the filename: \"), \"rt\" ) as bz_file:\n",
    "\n",
    "with bz2.open(\"Chitaga_2016_08_12_12h00.dat.bz2\", \"rt\" ) as bz_file:\n",
    "\n",
    "     for line in bz_file:\n",
    "        rline = line.rstrip('\\n').split(' ')\n",
    "        if len(rline)==3:\n",
    "            if rline[0]==\"#\":\n",
    "                ln=0\n",
    "            if rline[0]!=\"#\":\n",
    "                if ln <= 11: \n",
    "                    lista7.append(int(rline[2]))\n",
    "                #else:\n",
    "                ln += 1                    \n",
    "            #print( rline[0],rline[1],rline[2] )\n",
    "            #print(\"lista\",lista)\n",
    "        n += 1\n",
    "        #if n == 100:\n",
    "            #break\n",
    "#print(\"lista\",lista)\n",
    "#plot(lista)\n",
    "\n",
    "y6=len(lista7)\n",
    "print(\" El tamaño de la columna que se trabaja es:\",y6) \n",
    "\n",
    "#Creando Histograma\n",
    "\n",
    "# Histogram parameters\n",
    "hist6 = [] # Array for histogram\n",
    "startBin = 0\n",
    "endBin = 1500\n",
    "nbins = 1500\n",
    "binwidth = int((endBin - startBin) / nbins)\n",
    "\n",
    "[hist6.append(0) for i in range(nbins)] # Inizialiting histo\n",
    "\n",
    "# Filling histogram\n",
    "for i in lista7:\n",
    "    hist6[ int((i)/binwidth) ] += 1\n",
    "\n",
    "\n",
    "\n",
    "bines6=[]\n",
    "[bines6.append((i)*binwidth) for i in range(nbins)]\n",
    "\n",
    "\n",
    "print(\"Los primeros 2 datos columna 3\")\n",
    "plot(bines6, hist6, 'o')\n",
    "xlabel('Bines ')\n",
    "ylabel('Datos')\n",
    "yscale('log')\n",
    "xlim(0,100)\n",
    "show()"
   ]
  },
  {
   "cell_type": "code",
   "execution_count": 8,
   "metadata": {},
   "outputs": [
    {
     "name": "stdout",
     "output_type": "stream",
     "text": [
      "Los siguiente valores calculados son para todos los  datos columna 3\n",
      "\n",
      "Valor medio 50.0\n",
      " El Valor de la Varianza  0.79\n",
      "Desviación estandar 0.89\n",
      "Kurtosis es 20.56 y es Leptokurtic\n",
      "Se inclina a la (+), valor skewness  1.38\n"
     ]
    }
   ],
   "source": [
    "#Aqui se calcula para la columna 3\n",
    "print(\"Los siguiente valores calculados son para todos los  datos columna 3\\n\")\n",
    "\n",
    "nevents=len(lista7)\n",
    "\n",
    "#Con el fin de poder hallar el desviacion promedio, skew y la kurtosis debes hallar lo siguiente\n",
    "\n",
    "#Valor medio\n",
    "x=0\n",
    "for i in range(nevents):\n",
    "    x+=lista7[i]\n",
    "xmediot=x/nevents\n",
    "\n",
    "print(\"Valor medio\",round(xmediot,2))\n",
    "\n",
    "Var=0\n",
    "for i in range(nevents):\n",
    "    Var+=(lista7[i]-xmediot)**2\n",
    "varianzat=Var/(nevents-1)\n",
    "\n",
    "print(\" El Valor de la Varianza \",round(varianzat,2))\n",
    "\n",
    "sigmat=sqrt(varianzat)\n",
    "print(\"Desviación estandar\",round(sigmat,2))\n",
    "    \n",
    "kurt=0\n",
    "for i in range(nevents):\n",
    "    kurt+=((((lista7[i]-xmediot)/sigmat)**4)-3)\n",
    "kurtosist=kurt/nevents\n",
    "if kurtosist<0:\n",
    "    print(\"Kurtosis es\",round(kurtosist,2),\"y es Platykurtic\")\n",
    "else:\n",
    "    print(\"Kurtosis es\",round(kurtosist,2),\"y es Leptokurtic\")\n",
    "    \n",
    "skew=0\n",
    "for i in range(nevents):\n",
    "    skew+=(((lista7[i]-xmediot)/sigmat)**3)\n",
    "skewnesst=skew/nevents\n",
    "\n",
    "if skewnesst<0:\n",
    "    print(\"Se inclina a la (-), valor skewness \",round(skewnesst,2))\n",
    "else:\n",
    "    print(\"Se inclina a la (+), valor skewness \",round(skewnesst,2))"
   ]
  },
  {
   "cell_type": "markdown",
   "metadata": {},
   "source": [
    "## Reporte"
   ]
  },
  {
   "cell_type": "markdown",
   "metadata": {},
   "source": [
    "En lo mostrado anteriormente se utilizo como objeto principal el archivo Bz2 , en el cual nos proporcionaba datos lo cuales son señales de muchos  pulso, en el cual son proporcionados por el  dectector cherenkow en el cual lo facilita la parte electronica del dectetor. Además este dectector lo que nos mide es rayos cherenkov.\n",
    "Ahora si hacemos la comparaciónes  en este caso con los 2 primeros datos de que cada pulso  con la columna 1 y 2, notamos  los valores medios son iguales en este caso con valor de 51  y eso sucede quiere decir que la varianza y la desviacion estandar son las mismas no afecta en ningún caso , pero no saliendo del contexto los momentos de kurtosis y skewness son los mismos mostrando como resultado en la Kurtosis una leptokurtosis y la Skewnes son inclinado a hacia el lado positivos \n",
    "si hacemos la misma analogia que mencione  y hacemos la comparación con la columna 3 eso si teniendo en cuenta la columna 1 con los 2 primero datos de los pulsos hay una diferencia corto con los todos lo conceptos que mencione anteriormente eso si , pero con diferentes momentos en valor,  que me refiero a la Kurtosis  y la Skewness muestran la kurtosis con leptokurtosis  y si inclina al lado positivo\n",
    "Ahora hagamos las comparaciones con los ultimos 4 datos de cada pulso tomando como referencia las columnas 1 y 2  los valores en todo son diferentes tanto como la media hasta el momento skewnes y pasa lo mismo con con la comparacion 1 y 3 en relación  \n"
   ]
  },
  {
   "cell_type": "markdown",
   "metadata": {},
   "source": [
    "# EJEMPLOS DE ESTADISTICA  DE CAUCHY, T-STUDENT\n"
   ]
  },
  {
   "cell_type": "markdown",
   "metadata": {},
   "source": [
    "# ucn3|u4bin\n"
   ]
  },
  {
   "cell_type": "code",
   "execution_count": 14,
   "metadata": {},
   "outputs": [
    {
     "data": {
      "image/png": "[encoded data removed]",
      "text/plain": [
       "<Figure size 432x288 with 1 Axes>"
      ]
     },
     "metadata": {
      "needs_background": "light"
     },
     "output_type": "display_data"
    }
   ],
   "source": [
    "import matplotlib.pyplot as plt\n",
    "import  numpy as  np\n",
    "#from pylab import *\n",
    "from math import sqrt\n",
    "plt.plot(bines6,hist6,'bo' )\n",
    "plt.plot(binesA,hist1,'ro')\n",
    "plt.grid()\n",
    "yscale('log')\n",
    "xlim(30,70)\n",
    "plt.show()\n",
    "\n"
   ]
  },
  {
   "cell_type": "markdown",
   "metadata": {},
   "source": [
    "## uch 3| u2bin"
   ]
  },
  {
   "cell_type": "code",
   "execution_count": 17,
   "metadata": {
    "scrolled": true
   },
   "outputs": [
    {
     "data": {
      "image/png": "[encoded data removed]",
      "text/plain": [
       "<Figure size 432x288 with 1 Axes>"
      ]
     },
     "metadata": {
      "needs_background": "light"
     },
     "output_type": "display_data"
    }
   ],
   "source": [
    "plt.plot(bines6,hist6,'bo' )\n",
    "plot(bines2, hist2, 'ro')\n",
    "plt.grid()\n",
    "yscale('log')\n",
    "xlim(30,70)\n",
    "plt.show()"
   ]
  },
  {
   "cell_type": "markdown",
   "metadata": {},
   "source": [
    "# u2bin|u4bin"
   ]
  },
  {
   "cell_type": "code",
   "execution_count": 19,
   "metadata": {},
   "outputs": [
    {
     "data": {
      "image/png": "[encoded data removed]",
      "text/plain": [
       "<Figure size 432x288 with 1 Axes>"
      ]
     },
     "metadata": {
      "needs_background": "light"
     },
     "output_type": "display_data"
    }
   ],
   "source": [
    "plot(bines2, hist2, 'bo')\n",
    "plt.plot(binesA,hist1,'ro')\n",
    "plt.grid()\n",
    "yscale('log')\n",
    "xlim(30,70)\n",
    "plt.show()"
   ]
  },
  {
   "cell_type": "markdown",
   "metadata": {},
   "source": []
  }
 ],
 "metadata": {
  "kernelspec": {
   "display_name": "Python 3",
   "language": "python",
   "name": "python3"
  },
  "language_info": {
   "codemirror_mode": {
    "name": "ipython",
    "version": 3
   },
   "file_extension": ".py",
   "mimetype": "text/x-python",
   "name": "python",
   "nbconvert_exporter": "python",
   "pygments_lexer": "ipython3",
   "version": "3.5.2"
  }
 },
 "nbformat": 4,
 "nbformat_minor": 2
}
